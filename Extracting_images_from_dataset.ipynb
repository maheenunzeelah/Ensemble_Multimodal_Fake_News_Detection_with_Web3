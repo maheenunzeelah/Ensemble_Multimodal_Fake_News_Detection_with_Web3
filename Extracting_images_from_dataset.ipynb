{
  "nbformat": 4,
  "nbformat_minor": 0,
  "metadata": {
    "colab": {
      "provenance": []
    },
    "kernelspec": {
      "name": "python3",
      "display_name": "Python 3"
    },
    "language_info": {
      "name": "python"
    }
  },
  "cells": [
    {
      "cell_type": "code",
      "execution_count": 1,
      "metadata": {
        "colab": {
          "base_uri": "https://localhost:8080/"
        },
        "id": "CYCWq7rmWleG",
        "outputId": "ca78b454-d85d-4337-f550-8d8089de1b0e"
      },
      "outputs": [
        {
          "output_type": "stream",
          "name": "stdout",
          "text": [
            "Mounted at /content/drive/\n"
          ]
        }
      ],
      "source": [
        "import zipfile\n",
        "from google.colab import drive\n",
        "drive.mount('/content/drive/')"
      ]
    },
    {
      "cell_type": "code",
      "source": [
        "import pandas as pd\n",
        "import os\n",
        "import numpy as np\n",
        "from os import listdir\n",
        "from slugify import slugify\n",
        "import requests\n",
        "from  urllib3.exceptions import ReadTimeoutError\n",
        "from urllib.error import HTTPError\n",
        "from urllib.parse import urlparse\n",
        "from PIL import Image, UnidentifiedImageError\n",
        "import warnings\n",
        "warnings.filterwarnings('ignore')\n",
        "from google.colab import files\n",
        "import spacy\n",
        "nlp=spacy.load('en_core_web_sm')"
      ],
      "metadata": {
        "id": "804k_HMifAjA"
      },
      "execution_count": 4,
      "outputs": []
    },
    {
      "cell_type": "code",
      "source": [
        "!unzip -u /content/drive/MyDrive/all_data.zip"
      ],
      "metadata": {
        "colab": {
          "base_uri": "https://localhost:8080/"
        },
        "id": "70S1TN_de5E0",
        "outputId": "c2e13da6-8f6b-4f52-acfd-4170957d6a4a"
      },
      "execution_count": 2,
      "outputs": [
        {
          "output_type": "stream",
          "name": "stdout",
          "text": [
            "Archive:  /content/drive/MyDrive/all_data.zip\n",
            "  inflating: all_data.csv            \n"
          ]
        }
      ]
    },
    {
      "cell_type": "code",
      "source": [
        "news_data=pd.read_csv('all_data.csv',index_col=[0,1]).reset_index(drop=True)"
      ],
      "metadata": {
        "id": "fc-4iplAZBdq"
      },
      "execution_count": 5,
      "outputs": []
    },
    {
      "cell_type": "code",
      "source": [
        "news_data.info()"
      ],
      "metadata": {
        "colab": {
          "base_uri": "https://localhost:8080/"
        },
        "id": "eTXe9AXve9fB",
        "outputId": "b865fb6e-ab05-47b5-9748-8177c48dbce0"
      },
      "execution_count": 6,
      "outputs": [
        {
          "output_type": "stream",
          "name": "stdout",
          "text": [
            "<class 'pandas.core.frame.DataFrame'>\n",
            "RangeIndex: 20015 entries, 0 to 20014\n",
            "Data columns (total 52 columns):\n",
            " #   Column              Non-Null Count  Dtype  \n",
            "---  ------              --------------  -----  \n",
            " 0   author              20015 non-null  object \n",
            " 1   comments            16844 non-null  float64\n",
            " 2   country             20015 non-null  object \n",
            " 3   crawled             16844 non-null  object \n",
            " 4   domain_rank         20015 non-null  int64  \n",
            " 5   id                  4903 non-null   float64\n",
            " 6   language            16844 non-null  object \n",
            " 7   likes               16844 non-null  float64\n",
            " 8   main_img_url        20015 non-null  object \n",
            " 9   ord_in_thread       16844 non-null  float64\n",
            " 10  participants_count  16844 non-null  float64\n",
            " 11  published           13514 non-null  object \n",
            " 12  replies_count       16844 non-null  float64\n",
            " 13  shares              16844 non-null  float64\n",
            " 14  site_url            16844 non-null  object \n",
            " 15  spam_score          16844 non-null  float64\n",
            " 16  text                20015 non-null  object \n",
            " 17  thread_title        20015 non-null  object \n",
            " 18  title               20015 non-null  object \n",
            " 19  type                20015 non-null  object \n",
            " 20  uuid                16844 non-null  object \n",
            " 21  caps_title          20015 non-null  int64  \n",
            " 22  caps_thread         20015 non-null  int64  \n",
            " 23  caps_text           20015 non-null  int64  \n",
            " 24  title_len           20015 non-null  int64  \n",
            " 25  thread_len          20015 non-null  int64  \n",
            " 26  text_len            20015 non-null  int64  \n",
            " 27  excl_title          20015 non-null  int64  \n",
            " 28  excl_thread         20015 non-null  int64  \n",
            " 29  excl_text           20015 non-null  int64  \n",
            " 30  first_title         20015 non-null  int64  \n",
            " 31  first_thread        20015 non-null  int64  \n",
            " 32  first_text          20015 non-null  int64  \n",
            " 33  second_title        20015 non-null  int64  \n",
            " 34  second_thread       20015 non-null  int64  \n",
            " 35  second_text         20015 non-null  int64  \n",
            " 36  third_title         20015 non-null  int64  \n",
            " 37  third_thread        20015 non-null  int64  \n",
            " 38  third_text          20015 non-null  int64  \n",
            " 39  anger               20015 non-null  int64  \n",
            " 40  anticipation        20015 non-null  int64  \n",
            " 41  disgust             20015 non-null  int64  \n",
            " 42  fear                20015 non-null  int64  \n",
            " 43  joy                 20015 non-null  int64  \n",
            " 44  sadness             20015 non-null  int64  \n",
            " 45  surprise            20015 non-null  int64  \n",
            " 46  trust               20015 non-null  int64  \n",
            " 47  negative            20015 non-null  int64  \n",
            " 48  positive            20015 non-null  int64  \n",
            " 49  first_all           20015 non-null  int64  \n",
            " 50  second_all          20015 non-null  int64  \n",
            " 51  third_all           20015 non-null  int64  \n",
            "dtypes: float64(8), int64(32), object(12)\n",
            "memory usage: 7.9+ MB\n"
          ]
        }
      ]
    },
    {
      "cell_type": "code",
      "source": [
        "news_data.head()"
      ],
      "metadata": {
        "colab": {
          "base_uri": "https://localhost:8080/",
          "height": 507
        },
        "id": "8qrsT8UcfHlv",
        "outputId": "c1a99b9c-a289-4e17-eaf3-1a52ed332e0b"
      },
      "execution_count": 7,
      "outputs": [
        {
          "output_type": "execute_result",
          "data": {
            "text/plain": [
              "                           author  comments country              crawled  \\\n",
              "0                JEREMY W. PETERS       0.0      US  2017-03-14 08:25:04   \n",
              "1                      STEVE EDER       0.0      US  2017-03-14 08:25:36   \n",
              "2   MAGGIE HABERMAN ASHLEY PARKER       0.0      US  2017-03-14 08:25:36   \n",
              "3  NELSON D. SCHWARTZ SUI-LEE WEE       0.0      US  2017-03-14 08:25:36   \n",
              "4                 MAGGIE HABERMAN       0.0      US  2017-03-14 08:25:37   \n",
              "\n",
              "   domain_rank   id language  likes  \\\n",
              "0            0  3.0  english    0.0   \n",
              "1            0  4.0  english    0.0   \n",
              "2            0  5.0  english    0.0   \n",
              "3            0  6.0  english    0.0   \n",
              "4            0  7.0  english    0.0   \n",
              "\n",
              "                                        main_img_url  ord_in_thread  ...  \\\n",
              "0  https://static01.nyt.com/images/2016/11/23/us/...            0.0  ...   \n",
              "1  https://static01.nyt.com/images/2016/10/18/us/...            0.0  ...   \n",
              "2  https://static01.nyt.com/images/2016/11/12/us/...            0.0  ...   \n",
              "3  https://static01.nyt.com/images/2016/10/21/bus...            0.0  ...   \n",
              "4  https://static01.nyt.com/images/2016/11/21/us/...            0.0  ...   \n",
              "\n",
              "   fear joy  sadness  surprise trust  negative positive first_all second_all  \\\n",
              "0     6  20        5        14    30        14       52       409        150   \n",
              "1     4   4        4         5     9         8       15       145         38   \n",
              "2     8  15        8         6    26        15       34       440        168   \n",
              "3    10  10       10         6    32        24       43       592        136   \n",
              "4     3   6        2         4    14         4       25       223         82   \n",
              "\n",
              "  third_all  \n",
              "0        45  \n",
              "1        28  \n",
              "2        68  \n",
              "3        71  \n",
              "4        28  \n",
              "\n",
              "[5 rows x 52 columns]"
            ],
            "text/html": [
              "\n",
              "\n",
              "  <div id=\"df-c589032a-0403-4aca-adc3-fb2319165412\">\n",
              "    <div class=\"colab-df-container\">\n",
              "      <div>\n",
              "<style scoped>\n",
              "    .dataframe tbody tr th:only-of-type {\n",
              "        vertical-align: middle;\n",
              "    }\n",
              "\n",
              "    .dataframe tbody tr th {\n",
              "        vertical-align: top;\n",
              "    }\n",
              "\n",
              "    .dataframe thead th {\n",
              "        text-align: right;\n",
              "    }\n",
              "</style>\n",
              "<table border=\"1\" class=\"dataframe\">\n",
              "  <thead>\n",
              "    <tr style=\"text-align: right;\">\n",
              "      <th></th>\n",
              "      <th>author</th>\n",
              "      <th>comments</th>\n",
              "      <th>country</th>\n",
              "      <th>crawled</th>\n",
              "      <th>domain_rank</th>\n",
              "      <th>id</th>\n",
              "      <th>language</th>\n",
              "      <th>likes</th>\n",
              "      <th>main_img_url</th>\n",
              "      <th>ord_in_thread</th>\n",
              "      <th>...</th>\n",
              "      <th>fear</th>\n",
              "      <th>joy</th>\n",
              "      <th>sadness</th>\n",
              "      <th>surprise</th>\n",
              "      <th>trust</th>\n",
              "      <th>negative</th>\n",
              "      <th>positive</th>\n",
              "      <th>first_all</th>\n",
              "      <th>second_all</th>\n",
              "      <th>third_all</th>\n",
              "    </tr>\n",
              "  </thead>\n",
              "  <tbody>\n",
              "    <tr>\n",
              "      <th>0</th>\n",
              "      <td>JEREMY W. PETERS</td>\n",
              "      <td>0.0</td>\n",
              "      <td>US</td>\n",
              "      <td>2017-03-14 08:25:04</td>\n",
              "      <td>0</td>\n",
              "      <td>3.0</td>\n",
              "      <td>english</td>\n",
              "      <td>0.0</td>\n",
              "      <td>https://static01.nyt.com/images/2016/11/23/us/...</td>\n",
              "      <td>0.0</td>\n",
              "      <td>...</td>\n",
              "      <td>6</td>\n",
              "      <td>20</td>\n",
              "      <td>5</td>\n",
              "      <td>14</td>\n",
              "      <td>30</td>\n",
              "      <td>14</td>\n",
              "      <td>52</td>\n",
              "      <td>409</td>\n",
              "      <td>150</td>\n",
              "      <td>45</td>\n",
              "    </tr>\n",
              "    <tr>\n",
              "      <th>1</th>\n",
              "      <td>STEVE EDER</td>\n",
              "      <td>0.0</td>\n",
              "      <td>US</td>\n",
              "      <td>2017-03-14 08:25:36</td>\n",
              "      <td>0</td>\n",
              "      <td>4.0</td>\n",
              "      <td>english</td>\n",
              "      <td>0.0</td>\n",
              "      <td>https://static01.nyt.com/images/2016/10/18/us/...</td>\n",
              "      <td>0.0</td>\n",
              "      <td>...</td>\n",
              "      <td>4</td>\n",
              "      <td>4</td>\n",
              "      <td>4</td>\n",
              "      <td>5</td>\n",
              "      <td>9</td>\n",
              "      <td>8</td>\n",
              "      <td>15</td>\n",
              "      <td>145</td>\n",
              "      <td>38</td>\n",
              "      <td>28</td>\n",
              "    </tr>\n",
              "    <tr>\n",
              "      <th>2</th>\n",
              "      <td>MAGGIE HABERMAN ASHLEY PARKER</td>\n",
              "      <td>0.0</td>\n",
              "      <td>US</td>\n",
              "      <td>2017-03-14 08:25:36</td>\n",
              "      <td>0</td>\n",
              "      <td>5.0</td>\n",
              "      <td>english</td>\n",
              "      <td>0.0</td>\n",
              "      <td>https://static01.nyt.com/images/2016/11/12/us/...</td>\n",
              "      <td>0.0</td>\n",
              "      <td>...</td>\n",
              "      <td>8</td>\n",
              "      <td>15</td>\n",
              "      <td>8</td>\n",
              "      <td>6</td>\n",
              "      <td>26</td>\n",
              "      <td>15</td>\n",
              "      <td>34</td>\n",
              "      <td>440</td>\n",
              "      <td>168</td>\n",
              "      <td>68</td>\n",
              "    </tr>\n",
              "    <tr>\n",
              "      <th>3</th>\n",
              "      <td>NELSON D. SCHWARTZ SUI-LEE WEE</td>\n",
              "      <td>0.0</td>\n",
              "      <td>US</td>\n",
              "      <td>2017-03-14 08:25:36</td>\n",
              "      <td>0</td>\n",
              "      <td>6.0</td>\n",
              "      <td>english</td>\n",
              "      <td>0.0</td>\n",
              "      <td>https://static01.nyt.com/images/2016/10/21/bus...</td>\n",
              "      <td>0.0</td>\n",
              "      <td>...</td>\n",
              "      <td>10</td>\n",
              "      <td>10</td>\n",
              "      <td>10</td>\n",
              "      <td>6</td>\n",
              "      <td>32</td>\n",
              "      <td>24</td>\n",
              "      <td>43</td>\n",
              "      <td>592</td>\n",
              "      <td>136</td>\n",
              "      <td>71</td>\n",
              "    </tr>\n",
              "    <tr>\n",
              "      <th>4</th>\n",
              "      <td>MAGGIE HABERMAN</td>\n",
              "      <td>0.0</td>\n",
              "      <td>US</td>\n",
              "      <td>2017-03-14 08:25:37</td>\n",
              "      <td>0</td>\n",
              "      <td>7.0</td>\n",
              "      <td>english</td>\n",
              "      <td>0.0</td>\n",
              "      <td>https://static01.nyt.com/images/2016/11/21/us/...</td>\n",
              "      <td>0.0</td>\n",
              "      <td>...</td>\n",
              "      <td>3</td>\n",
              "      <td>6</td>\n",
              "      <td>2</td>\n",
              "      <td>4</td>\n",
              "      <td>14</td>\n",
              "      <td>4</td>\n",
              "      <td>25</td>\n",
              "      <td>223</td>\n",
              "      <td>82</td>\n",
              "      <td>28</td>\n",
              "    </tr>\n",
              "  </tbody>\n",
              "</table>\n",
              "<p>5 rows × 52 columns</p>\n",
              "</div>\n",
              "      <button class=\"colab-df-convert\" onclick=\"convertToInteractive('df-c589032a-0403-4aca-adc3-fb2319165412')\"\n",
              "              title=\"Convert this dataframe to an interactive table.\"\n",
              "              style=\"display:none;\">\n",
              "\n",
              "  <svg xmlns=\"http://www.w3.org/2000/svg\" height=\"24px\"viewBox=\"0 0 24 24\"\n",
              "       width=\"24px\">\n",
              "    <path d=\"M0 0h24v24H0V0z\" fill=\"none\"/>\n",
              "    <path d=\"M18.56 5.44l.94 2.06.94-2.06 2.06-.94-2.06-.94-.94-2.06-.94 2.06-2.06.94zm-11 1L8.5 8.5l.94-2.06 2.06-.94-2.06-.94L8.5 2.5l-.94 2.06-2.06.94zm10 10l.94 2.06.94-2.06 2.06-.94-2.06-.94-.94-2.06-.94 2.06-2.06.94z\"/><path d=\"M17.41 7.96l-1.37-1.37c-.4-.4-.92-.59-1.43-.59-.52 0-1.04.2-1.43.59L10.3 9.45l-7.72 7.72c-.78.78-.78 2.05 0 2.83L4 21.41c.39.39.9.59 1.41.59.51 0 1.02-.2 1.41-.59l7.78-7.78 2.81-2.81c.8-.78.8-2.07 0-2.86zM5.41 20L4 18.59l7.72-7.72 1.47 1.35L5.41 20z\"/>\n",
              "  </svg>\n",
              "      </button>\n",
              "\n",
              "\n",
              "\n",
              "    <div id=\"df-704c5d78-75e4-4156-9fb6-fa7c38e54a19\">\n",
              "      <button class=\"colab-df-quickchart\" onclick=\"quickchart('df-704c5d78-75e4-4156-9fb6-fa7c38e54a19')\"\n",
              "              title=\"Suggest charts.\"\n",
              "              style=\"display:none;\">\n",
              "\n",
              "<svg xmlns=\"http://www.w3.org/2000/svg\" height=\"24px\"viewBox=\"0 0 24 24\"\n",
              "     width=\"24px\">\n",
              "    <g>\n",
              "        <path d=\"M19 3H5c-1.1 0-2 .9-2 2v14c0 1.1.9 2 2 2h14c1.1 0 2-.9 2-2V5c0-1.1-.9-2-2-2zM9 17H7v-7h2v7zm4 0h-2V7h2v10zm4 0h-2v-4h2v4z\"/>\n",
              "    </g>\n",
              "</svg>\n",
              "      </button>\n",
              "    </div>\n",
              "\n",
              "<style>\n",
              "  .colab-df-quickchart {\n",
              "    background-color: #E8F0FE;\n",
              "    border: none;\n",
              "    border-radius: 50%;\n",
              "    cursor: pointer;\n",
              "    display: none;\n",
              "    fill: #1967D2;\n",
              "    height: 32px;\n",
              "    padding: 0 0 0 0;\n",
              "    width: 32px;\n",
              "  }\n",
              "\n",
              "  .colab-df-quickchart:hover {\n",
              "    background-color: #E2EBFA;\n",
              "    box-shadow: 0px 1px 2px rgba(60, 64, 67, 0.3), 0px 1px 3px 1px rgba(60, 64, 67, 0.15);\n",
              "    fill: #174EA6;\n",
              "  }\n",
              "\n",
              "  [theme=dark] .colab-df-quickchart {\n",
              "    background-color: #3B4455;\n",
              "    fill: #D2E3FC;\n",
              "  }\n",
              "\n",
              "  [theme=dark] .colab-df-quickchart:hover {\n",
              "    background-color: #434B5C;\n",
              "    box-shadow: 0px 1px 3px 1px rgba(0, 0, 0, 0.15);\n",
              "    filter: drop-shadow(0px 1px 2px rgba(0, 0, 0, 0.3));\n",
              "    fill: #FFFFFF;\n",
              "  }\n",
              "</style>\n",
              "\n",
              "    <script>\n",
              "      async function quickchart(key) {\n",
              "        const containerElement = document.querySelector('#' + key);\n",
              "        const charts = await google.colab.kernel.invokeFunction(\n",
              "            'suggestCharts', [key], {});\n",
              "      }\n",
              "    </script>\n",
              "\n",
              "      <script>\n",
              "\n",
              "function displayQuickchartButton(domScope) {\n",
              "  let quickchartButtonEl =\n",
              "    domScope.querySelector('#df-704c5d78-75e4-4156-9fb6-fa7c38e54a19 button.colab-df-quickchart');\n",
              "  quickchartButtonEl.style.display =\n",
              "    google.colab.kernel.accessAllowed ? 'block' : 'none';\n",
              "}\n",
              "\n",
              "        displayQuickchartButton(document);\n",
              "      </script>\n",
              "      <style>\n",
              "    .colab-df-container {\n",
              "      display:flex;\n",
              "      flex-wrap:wrap;\n",
              "      gap: 12px;\n",
              "    }\n",
              "\n",
              "    .colab-df-convert {\n",
              "      background-color: #E8F0FE;\n",
              "      border: none;\n",
              "      border-radius: 50%;\n",
              "      cursor: pointer;\n",
              "      display: none;\n",
              "      fill: #1967D2;\n",
              "      height: 32px;\n",
              "      padding: 0 0 0 0;\n",
              "      width: 32px;\n",
              "    }\n",
              "\n",
              "    .colab-df-convert:hover {\n",
              "      background-color: #E2EBFA;\n",
              "      box-shadow: 0px 1px 2px rgba(60, 64, 67, 0.3), 0px 1px 3px 1px rgba(60, 64, 67, 0.15);\n",
              "      fill: #174EA6;\n",
              "    }\n",
              "\n",
              "    [theme=dark] .colab-df-convert {\n",
              "      background-color: #3B4455;\n",
              "      fill: #D2E3FC;\n",
              "    }\n",
              "\n",
              "    [theme=dark] .colab-df-convert:hover {\n",
              "      background-color: #434B5C;\n",
              "      box-shadow: 0px 1px 3px 1px rgba(0, 0, 0, 0.15);\n",
              "      filter: drop-shadow(0px 1px 2px rgba(0, 0, 0, 0.3));\n",
              "      fill: #FFFFFF;\n",
              "    }\n",
              "  </style>\n",
              "\n",
              "      <script>\n",
              "        const buttonEl =\n",
              "          document.querySelector('#df-c589032a-0403-4aca-adc3-fb2319165412 button.colab-df-convert');\n",
              "        buttonEl.style.display =\n",
              "          google.colab.kernel.accessAllowed ? 'block' : 'none';\n",
              "\n",
              "        async function convertToInteractive(key) {\n",
              "          const element = document.querySelector('#df-c589032a-0403-4aca-adc3-fb2319165412');\n",
              "          const dataTable =\n",
              "            await google.colab.kernel.invokeFunction('convertToInteractive',\n",
              "                                                     [key], {});\n",
              "          if (!dataTable) return;\n",
              "\n",
              "          const docLinkHtml = 'Like what you see? Visit the ' +\n",
              "            '<a target=\"_blank\" href=https://colab.research.google.com/notebooks/data_table.ipynb>data table notebook</a>'\n",
              "            + ' to learn more about interactive tables.';\n",
              "          element.innerHTML = '';\n",
              "          dataTable['output_type'] = 'display_data';\n",
              "          await google.colab.output.renderOutput(dataTable, element);\n",
              "          const docLink = document.createElement('div');\n",
              "          docLink.innerHTML = docLinkHtml;\n",
              "          element.appendChild(docLink);\n",
              "        }\n",
              "      </script>\n",
              "    </div>\n",
              "  </div>\n"
            ]
          },
          "metadata": {},
          "execution_count": 7
        }
      ]
    },
    {
      "cell_type": "code",
      "source": [
        "news_data[\"language\"].value_counts()"
      ],
      "metadata": {
        "colab": {
          "base_uri": "https://localhost:8080/"
        },
        "id": "7uocREMYgQaZ",
        "outputId": "3e9af173-e64b-497b-fa29-1d6d94fc0484"
      },
      "execution_count": 8,
      "outputs": [
        {
          "output_type": "execute_result",
          "data": {
            "text/plain": [
              "english       16252\n",
              "russian         203\n",
              "spanish         172\n",
              "german          111\n",
              "french           37\n",
              "arabic           22\n",
              "portuguese       11\n",
              "turkish          10\n",
              "italian           9\n",
              "greek             4\n",
              "ignore            4\n",
              "dutch             3\n",
              "norwegian         3\n",
              "finnish           1\n",
              "chinese           1\n",
              "polish            1\n",
              "Name: language, dtype: int64"
            ]
          },
          "metadata": {},
          "execution_count": 8
        }
      ]
    },
    {
      "cell_type": "code",
      "source": [
        "news_data=news_data[news_data['language']=='english']"
      ],
      "metadata": {
        "id": "UIJTkJWXhFxL"
      },
      "execution_count": 9,
      "outputs": []
    },
    {
      "cell_type": "code",
      "source": [
        "news_data[\"language\"].value_counts()"
      ],
      "metadata": {
        "colab": {
          "base_uri": "https://localhost:8080/"
        },
        "id": "xceqsdv1hKmO",
        "outputId": "56bbdd12-ff24-41a5-dadb-22f57c5f33cf"
      },
      "execution_count": 10,
      "outputs": [
        {
          "output_type": "execute_result",
          "data": {
            "text/plain": [
              "english    16252\n",
              "Name: language, dtype: int64"
            ]
          },
          "metadata": {},
          "execution_count": 10
        }
      ]
    },
    {
      "cell_type": "code",
      "source": [
        "news_data=news_data[[\"type\",\"text\",\"title\",\"main_img_url\",\"site_url\"]].reset_index(drop=True)"
      ],
      "metadata": {
        "id": "A4nuNGWfhOM0"
      },
      "execution_count": 11,
      "outputs": []
    },
    {
      "cell_type": "code",
      "source": [
        "news_data.info()"
      ],
      "metadata": {
        "colab": {
          "base_uri": "https://localhost:8080/"
        },
        "id": "g5zvOxpLhZAq",
        "outputId": "8e75a301-1099-4929-a0ab-86f58b8158a3"
      },
      "execution_count": 13,
      "outputs": [
        {
          "output_type": "stream",
          "name": "stdout",
          "text": [
            "<class 'pandas.core.frame.DataFrame'>\n",
            "RangeIndex: 16252 entries, 0 to 16251\n",
            "Data columns (total 5 columns):\n",
            " #   Column        Non-Null Count  Dtype \n",
            "---  ------        --------------  ----- \n",
            " 0   type          16252 non-null  object\n",
            " 1   text          16252 non-null  object\n",
            " 2   title         16252 non-null  object\n",
            " 3   main_img_url  16252 non-null  object\n",
            " 4   site_url      16252 non-null  object\n",
            "dtypes: object(5)\n",
            "memory usage: 635.0+ KB\n"
          ]
        }
      ]
    },
    {
      "cell_type": "code",
      "source": [
        "from requests.exceptions import ConnectionError\n",
        "def check_url_exists(url: str):\n",
        "    \"\"\"\n",
        "    Checks if a url exists\n",
        "    :param url: url to check\n",
        "    :return: True if the url exists, false otherwise.\n",
        "    \"\"\"\n",
        "\n",
        "    # print(url)\n",
        "    return requests.head(url, allow_redirects=True).status_code == 200"
      ],
      "metadata": {
        "id": "cmpqL_vYhe5l"
      },
      "execution_count": 14,
      "outputs": []
    },
    {
      "cell_type": "code",
      "source": [
        "def is_url_image(image_url):\n",
        "   image_formats = (\"image/png\", \"image/jpeg\", \"image/jpg\")\n",
        "   r = requests.head(image_url)\n",
        "   if r.headers.get(\"content-type\",'') in image_formats:\n",
        "      return True\n",
        "   return False"
      ],
      "metadata": {
        "id": "XUQ4YwhghkdP"
      },
      "execution_count": 15,
      "outputs": []
    },
    {
      "cell_type": "code",
      "source": [
        "def uri_validator(x):\n",
        "    try:\n",
        "        result = urlparse(x)\n",
        "        return all([result.scheme, result.netloc])\n",
        "    except:\n",
        "        return False\n"
      ],
      "metadata": {
        "id": "gflcsUb2hl7H"
      },
      "execution_count": 16,
      "outputs": []
    },
    {
      "cell_type": "code",
      "source": [
        "def saving_img(img_url,i):\n",
        "   ext=str(img_url).split(\".\")[-1]\n",
        "   format = 'JPEG' if ext.lower() == 'jpg' else ext.upper()\n",
        "   response = requests.get(img_url,timeout=5)\n",
        "   if response.status_code:\n",
        "       img = Image.open(BytesIO(response.content))\n",
        "       if img.mode in (\"RGBA\", \"P\"):\n",
        "        img = img.convert(\"RGB\")\n",
        "       img.save(\"images_news_all/\"+str(i)+f\"{slugify(img_url[0:100])}.{ext}\",format)\n",
        "       print(\"saving\",i)"
      ],
      "metadata": {
        "id": "VjTQT44ShnH7"
      },
      "execution_count": 17,
      "outputs": []
    },
    {
      "cell_type": "code",
      "source": [
        "## Before running this block, create a new folder where all retrieved images will be saved\n",
        "from requests.exceptions import SSLError\n",
        "delete_index=[]\n",
        "for i,url in enumerate(news_data[\"main_img_url\"]):\n",
        "     try:\n",
        "       res=is_url_image(url)\n",
        "       if(res==False):\n",
        "          delete_index.append(i)\n",
        "          continue\n",
        "       response = requests.head(url, allow_redirects=True)\n",
        "       saving_img(url,i)\n",
        "     except (SSLError,KeyError,UnidentifiedImageError, ConnectionError,requests.exceptions.MissingSchema, ReadTimeoutError,requests.exceptions.Timeout):\n",
        "       delete_index.append(i)\n",
        "       continue"
      ],
      "metadata": {
        "id": "lg0k0d5OjqGU"
      },
      "execution_count": null,
      "outputs": []
    },
    {
      "cell_type": "code",
      "source": [
        "news_data.drop(delete_index, inplace=True)\n",
        "news_data.reset_index(drop=True,inplace=True)"
      ],
      "metadata": {
        "id": "UFPSfn91kFv4"
      },
      "execution_count": null,
      "outputs": []
    },
    {
      "cell_type": "code",
      "source": [
        "dir_path=\"/content/images_news_all\"\n",
        "count = 0\n",
        "ima=[]\n",
        "# Iterate directory\n",
        "for path in os.listdir(dir_path):\n",
        "    # check if current path is a file\n",
        "    if os.path.isfile(os.path.join(dir_path, path)):\n",
        "       ima.append(path)\n",
        "print('File count:', len(ima))"
      ],
      "metadata": {
        "id": "KMsFweEgo1la"
      },
      "execution_count": null,
      "outputs": []
    },
    {
      "cell_type": "code",
      "source": [
        "index=[]\n",
        "images=[]\n",
        "for i,path in enumerate(ima):\n",
        "   ind=ima[i].split('h')[0]\n",
        "   images.append(path)\n",
        "   index.append(ind)"
      ],
      "metadata": {
        "id": "d1dKu0JHpNq6"
      },
      "execution_count": null,
      "outputs": []
    },
    {
      "cell_type": "code",
      "source": [
        "for i,path in enumerate(ima):\n",
        "   ind=ima[i].split('h')[0]\n",
        "   for img_url in news_data['main_img_url']:\n",
        "       if ind in img_url:\n",
        "          news_data[\"img\"]=ima"
      ],
      "metadata": {
        "id": "N85au17gkMKL"
      },
      "execution_count": null,
      "outputs": []
    },
    {
      "cell_type": "code",
      "source": [
        "index=sorted(index,key=int)\n",
        "news_data=news_data.iloc[index]"
      ],
      "metadata": {
        "id": "uO83GIn1o-OG"
      },
      "execution_count": null,
      "outputs": []
    }
  ]
}